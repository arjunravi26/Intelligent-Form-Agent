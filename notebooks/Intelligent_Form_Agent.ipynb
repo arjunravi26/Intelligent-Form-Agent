{
  "cells": [
    {
      "cell_type": "markdown",
      "metadata": {
        "id": "PQXao-qi2W7m"
      },
      "source": [
        "# **Intelligent Form Agent**"
      ]
    },
    {
      "cell_type": "markdown",
      "metadata": {
        "id": "RLxHVaFeIiPX"
      },
      "source": [
        "## Installation"
      ]
    },
    {
      "cell_type": "code",
      "execution_count": 2,
      "metadata": {
        "colab": {
          "base_uri": "https://localhost:8080/"
        },
        "id": "5YcauK9GqpS2",
        "outputId": "f97b50e4-d173-4584-ab64-e74d03e3c146"
      },
      "outputs": [
        {
          "name": "stdout",
          "output_type": "stream",
          "text": [
            "Requirement already satisfied: transformers in /usr/local/lib/python3.12/dist-packages (4.57.1)\n",
            "Requirement already satisfied: huggingface_hub in /usr/local/lib/python3.12/dist-packages (0.35.3)\n",
            "Collecting faker\n",
            "  Downloading faker-37.11.0-py3-none-any.whl.metadata (15 kB)\n",
            "Requirement already satisfied: filelock in /usr/local/lib/python3.12/dist-packages (from transformers) (3.20.0)\n",
            "Requirement already satisfied: numpy>=1.17 in /usr/local/lib/python3.12/dist-packages (from transformers) (2.0.2)\n",
            "Requirement already satisfied: packaging>=20.0 in /usr/local/lib/python3.12/dist-packages (from transformers) (25.0)\n",
            "Requirement already satisfied: pyyaml>=5.1 in /usr/local/lib/python3.12/dist-packages (from transformers) (6.0.3)\n",
            "Requirement already satisfied: regex!=2019.12.17 in /usr/local/lib/python3.12/dist-packages (from transformers) (2024.11.6)\n",
            "Requirement already satisfied: requests in /usr/local/lib/python3.12/dist-packages (from transformers) (2.32.4)\n",
            "Requirement already satisfied: tokenizers<=0.23.0,>=0.22.0 in /usr/local/lib/python3.12/dist-packages (from transformers) (0.22.1)\n",
            "Requirement already satisfied: safetensors>=0.4.3 in /usr/local/lib/python3.12/dist-packages (from transformers) (0.6.2)\n",
            "Requirement already satisfied: tqdm>=4.27 in /usr/local/lib/python3.12/dist-packages (from transformers) (4.67.1)\n",
            "Requirement already satisfied: fsspec>=2023.5.0 in /usr/local/lib/python3.12/dist-packages (from huggingface_hub) (2025.3.0)\n",
            "Requirement already satisfied: typing-extensions>=3.7.4.3 in /usr/local/lib/python3.12/dist-packages (from huggingface_hub) (4.15.0)\n",
            "Requirement already satisfied: hf-xet<2.0.0,>=1.1.3 in /usr/local/lib/python3.12/dist-packages (from huggingface_hub) (1.1.10)\n",
            "Requirement already satisfied: tzdata in /usr/local/lib/python3.12/dist-packages (from faker) (2025.2)\n",
            "Requirement already satisfied: charset_normalizer<4,>=2 in /usr/local/lib/python3.12/dist-packages (from requests->transformers) (3.4.4)\n",
            "Requirement already satisfied: idna<4,>=2.5 in /usr/local/lib/python3.12/dist-packages (from requests->transformers) (3.11)\n",
            "Requirement already satisfied: urllib3<3,>=1.21.1 in /usr/local/lib/python3.12/dist-packages (from requests->transformers) (2.5.0)\n",
            "Requirement already satisfied: certifi>=2017.4.17 in /usr/local/lib/python3.12/dist-packages (from requests->transformers) (2025.10.5)\n",
            "Downloading faker-37.11.0-py3-none-any.whl (2.0 MB)\n",
            "\u001b[2K   \u001b[90m━━━━━━━━━━━━━━━━━━━━━━━━━━━━━━━━━━━━━━━━\u001b[0m \u001b[32m2.0/2.0 MB\u001b[0m \u001b[31m17.4 MB/s\u001b[0m eta \u001b[36m0:00:00\u001b[0m\n",
            "\u001b[?25hInstalling collected packages: faker\n",
            "Successfully installed faker-37.11.0\n"
          ]
        }
      ],
      "source": [
        "!pip install transformers huggingface_hub faker"
      ]
    },
    {
      "cell_type": "markdown",
      "metadata": {
        "id": "IaILYzh3gYSF"
      },
      "source": [
        "## Imports"
      ]
    },
    {
      "cell_type": "code",
      "execution_count": 3,
      "metadata": {
        "id": "d-RNAcYggZ4D"
      },
      "outputs": [],
      "source": [
        "from faker import Faker\n",
        "from typing import List, Dict\n",
        "from huggingface_hub import InferenceClient\n",
        "from google.colab import userdata\n",
        "from typing import defaultdict\n",
        "import pandas as pd\n",
        "import random\n",
        "import os\n",
        "import re\n",
        "import json\n",
        "import yaml"
      ]
    },
    {
      "cell_type": "markdown",
      "metadata": {
        "id": "H4afi8mMIdVo"
      },
      "source": [
        "## Data Creation for insurance claim"
      ]
    },
    {
      "cell_type": "code",
      "execution_count": 6,
      "metadata": {
        "id": "7xngHT4QgeVQ"
      },
      "outputs": [],
      "source": [
        "fake = Faker()"
      ]
    },
    {
      "cell_type": "code",
      "execution_count": 7,
      "metadata": {
        "colab": {
          "base_uri": "https://localhost:8080/"
        },
        "id": "ewnmIQbpggv8",
        "outputId": "fdabf329-7412-440d-fd89-02c068224bfa"
      },
      "outputs": [
        {
          "name": "stdout",
          "output_type": "stream",
          "text": [
            "--- STARTING DYNAMIC TEST DATA GENERATION ---\n",
            "Generating 3 claims for Patient PA-12345 (Hypertension)...\n",
            "Generating 4 claims for Patient PB-24680 (Migraine)...\n",
            "Generating 3 claims for Patient PC-13579 (Asthma)...\n",
            "Generating 5 claims for Patient PD-09876 (Type 2 Diabetes)...\n",
            "Generating 6 claims for Patient PE-54321 (Acute Sinusitis)...\n",
            "--- FILE GENERATION COMPLETE ---\n",
            "Total Claims Generated: 21\n",
            "Data is organized in the 'data\\claim' directory.\n",
            "\n",
            "Example Path Structure (Note the single text file):\n",
            "  data\\claim/PA-12345/CLM#########/claim_details.json\n",
            "  data\\claim/PA-12345/CLM#########/claim_text_data.txt\n"
          ]
        },
        {
          "name": "stderr",
          "output_type": "stream",
          "text": [
            "<>:1: SyntaxWarning: invalid escape sequence '\\c'\n",
            "<>:1: SyntaxWarning: invalid escape sequence '\\c'\n",
            "/tmp/ipython-input-337999772.py:1: SyntaxWarning: invalid escape sequence '\\c'\n",
            "  OUTPUT_DIR = 'data\\claim'\n"
          ]
        }
      ],
      "source": [
        "OUTPUT_DIR = 'data\\claim'\n",
        "CONFIG_PATH = \"/content/config.yaml\"\n",
        "MIN_CLAIMS_PER_PATIENT = 2\n",
        "MAX_CLAIMS_PER_PATIENT = 6\n",
        "\n",
        "fake = Faker()\n",
        "with open(CONFIG_PATH, \"r\") as file:\n",
        "    data = yaml.safe_load(file)\n",
        "\n",
        "ICD_CODES = data[\"ICD_CODES\"]\n",
        "CPT_CODES = data[\"CPT_CODES\"]\n",
        "DRUG_NAMES = data[\"DRUG_NAMES\"]\n",
        "PROVIDER_NAMES = data[\"PROVIDER_NAMES\"]\n",
        "\n",
        "\n",
        "def create_patient_profile(patient_id):\n",
        "    return {\n",
        "        \"patient_id\": patient_id,\n",
        "        \"first_name\": fake.first_name(),\n",
        "        \"last_name\": fake.last_name(),\n",
        "        \"date_of_birth\": fake.date_between(start_date=\"-70y\", end_date=\"-20y\").isoformat(),\n",
        "        \"policy_number\": fake.bothify(text='P#####-##')\n",
        "    }\n",
        "\n",
        "\n",
        "def generate_claim(patient_profile, base_diagnosis, claim_number_offset):\n",
        "    procedure_key = \"Office Visit (Established Patient)\"\n",
        "    provider = random.choice(PROVIDER_NAMES)\n",
        "\n",
        "    if base_diagnosis == \"Hypertension\":\n",
        "        procedure_key = \"Echocardiogram\"\n",
        "        provider = PROVIDER_NAMES[2]\n",
        "    elif base_diagnosis == \"Migraine\":\n",
        "        procedure_key = \"MRI Brain w/o Contrast\"\n",
        "        provider = PROVIDER_NAMES[1]\n",
        "    elif base_diagnosis == \"Asthma\":\n",
        "        procedure_key = \"Spirometry (Lung Function Test)\"\n",
        "        provider = PROVIDER_NAMES[4]\n",
        "    elif base_diagnosis == \"Type 2 Diabetes\":\n",
        "        procedure_key = \"Blood Glucose Test\"\n",
        "        provider = PROVIDER_NAMES[0]\n",
        "\n",
        "    procedure_code = CPT_CODES[procedure_key]\n",
        "\n",
        "    visit_date = fake.date_between(\n",
        "        start_date=f\"-{claim_number_offset}M\", end_date=f\"-{claim_number_offset}M\").isoformat()\n",
        "\n",
        "    billed_amount = round(random.uniform(500.0, 3500.0), 2)\n",
        "    allowed_amount = round(billed_amount * random.uniform(0.65, 0.85), 2)\n",
        "    copay = random.choice([25.0, 50.0, 75.0])\n",
        "    insurance_paid = round(allowed_amount - copay, 2)\n",
        "\n",
        "    summary = (\n",
        "        f\"Claim for {base_diagnosis} ({ICD_CODES[base_diagnosis]}). \"\n",
        "        f\"Patient presented with symptoms requiring {procedure_key} ({procedure_code}). \"\n",
        "        f\"Recommended medication: {random.choice(DRUG_NAMES)}.\"\n",
        "    )\n",
        "\n",
        "    clinical_note = (\n",
        "        f\"CLINICAL NOTE: Patient {patient_profile['first_name']} {patient_profile['last_name']} (Policy: {patient_profile['policy_number']}) \"\n",
        "        f\"was seen today, {visit_date}, by {provider}. The main subjective complaint was a \"\n",
        "        f\"recurrent flare-up of their **{base_diagnosis}** symptoms, which are generally well-managed. \"\n",
        "        f\"{fake.paragraph(nb_sentences=2)} Assessment determined the necessity of a diagnostic \"\n",
        "        f\"procedure to confirm the severity: **{procedure_key}** (CPT: {procedure_code}). \"\n",
        "        f\"The diagnosis code assigned is **{ICD_CODES[base_diagnosis]}**. The patient was advised \"\n",
        "        f\"on the necessity of lifestyle modifications and will be starting the new medication, \"\n",
        "        f\"{random.choice(DRUG_NAMES)}, immediately. Total billed charges for this visit are ${billed_amount:.2f}. \"\n",
        "        f\"All staff were informed regarding the high priority of the patient's next appointment.\"\n",
        "    )\n",
        "\n",
        "    structured_details = {\n",
        "        \"claim_id\": fake.bothify(text='CLM#########'),\n",
        "        \"claim_date\": visit_date,\n",
        "        \"patient_info\": patient_profile,\n",
        "        \"provider_name\": provider,\n",
        "        \"primary_diagnosis\": base_diagnosis,\n",
        "        \"icd_code\": ICD_CODES[base_diagnosis],\n",
        "        \"procedure_description\": procedure_key,\n",
        "        \"cpt_code\": procedure_code,\n",
        "        \"financials\": {\n",
        "            \"billed_amount\": billed_amount,\n",
        "            \"allowed_amount\": allowed_amount,\n",
        "            \"copay\": copay,\n",
        "            \"insurance_paid\": insurance_paid\n",
        "        }\n",
        "    }\n",
        "\n",
        "    return structured_details, clinical_note, summary\n",
        "\n",
        "\n",
        "\n",
        "def save_claim_files(structured_details, unstructured_note, summary):\n",
        "\n",
        "    patient_id = structured_details['patient_info']['patient_id']\n",
        "    claim_id = structured_details['claim_id']\n",
        "\n",
        "    claim_dir = os.path.join(OUTPUT_DIR, patient_id, claim_id)\n",
        "\n",
        "    os.makedirs(claim_dir, exist_ok=True)\n",
        "\n",
        "    with open(os.path.join(claim_dir, 'claim_details.json'), 'w') as f:\n",
        "        json.dump(structured_details, f, indent=4)\n",
        "\n",
        "    text_content = (\n",
        "        \"---CLINICAL NOTE ---\\n\"\n",
        "        f\"{unstructured_note}\\n\\n\"\n",
        "        \"---SUMMARY ---\\n\"\n",
        "        f\"{summary}\\n\"\n",
        "    )\n",
        "\n",
        "    with open(os.path.join(claim_dir, 'claim_text_data.txt'), 'w') as f:\n",
        "        f.write(text_content)\n",
        "\n",
        "\n",
        "patient_profiles = {\n",
        "    \"PA-12345\": create_patient_profile(\"PA-12345\"),\n",
        "    \"PB-24680\": create_patient_profile(\"PB-24680\"),\n",
        "    \"PC-13579\": create_patient_profile(\"PC-13579\"),\n",
        "    \"PD-09876\": create_patient_profile(\"PD-09876\"),\n",
        "    \"PE-54321\": create_patient_profile(\"PE-54321\"),\n",
        "}\n",
        "\n",
        "patient_conditions = {\n",
        "    \"PA-12345\": \"Hypertension\",\n",
        "    \"PB-24680\": \"Migraine\",\n",
        "    \"PC-13579\": \"Asthma\",\n",
        "    \"PD-09876\": \"Type 2 Diabetes\",\n",
        "    \"PE-54321\": \"Acute Sinusitis\",\n",
        "}\n",
        "\n",
        "total_claims_generated = 0\n",
        "all_icd_keys = list(ICD_CODES.keys())\n",
        "print(\"--- STARTING DYNAMIC TEST DATA GENERATION ---\")\n",
        "for patient_id, base_condition in patient_conditions.items():\n",
        "    patient = patient_profiles[patient_id]\n",
        "\n",
        "    num_claims = random.randint(MIN_CLAIMS_PER_PATIENT, MAX_CLAIMS_PER_PATIENT)\n",
        "    print(\n",
        "        f\"Generating {num_claims} claims for Patient {patient_id} ({base_condition})...\")\n",
        "\n",
        "    for i in range(1, num_claims + 1):\n",
        "        current_diagnosis = base_condition\n",
        "        if random.random() < 0.25 and len(all_icd_keys) > 1:\n",
        "            available_diagnoses = [d for d in all_icd_keys if d != base_condition]\n",
        "            if available_diagnoses:\n",
        "                current_diagnosis = random.choice(available_diagnoses)\n",
        "        structured, unstructured, summary = generate_claim(\n",
        "            patient, current_diagnosis, num_claims - i + 1)\n",
        "        save_claim_files(structured, unstructured, summary)\n",
        "        total_claims_generated += 1\n",
        "\n",
        "print(\"--- FILE GENERATION COMPLETE ---\")\n",
        "print(f\"Total Claims Generated: {total_claims_generated}\")\n",
        "print(f\"Data is organized in the '{OUTPUT_DIR}' directory.\")\n",
        "print(\"\\nExample Path Structure (Note the single text file):\")\n",
        "print(f\"  {OUTPUT_DIR}/PA-12345/CLM#########/claim_details.json\")\n",
        "print(f\"  {OUTPUT_DIR}/PA-12345/CLM#########/claim_text_data.txt\")\n"
      ]
    },
    {
      "cell_type": "markdown",
      "metadata": {
        "id": "7gwJRtuLIi_h"
      },
      "source": [
        "## Extractive QA"
      ]
    },
    {
      "cell_type": "markdown",
      "metadata": {
        "id": "aTfv5rgZugta"
      },
      "source": [
        "Define Model"
      ]
    },
    {
      "cell_type": "code",
      "execution_count": 8,
      "metadata": {
        "id": "Z7DGhtK9rpi1"
      },
      "outputs": [],
      "source": [
        "MODEL_NAME = \"deepset/roberta-large-squad2\""
      ]
    },
    {
      "cell_type": "markdown",
      "metadata": {
        "id": "jXZGK8D0uiJT"
      },
      "source": [
        "Setup Token"
      ]
    },
    {
      "cell_type": "markdown",
      "metadata": {
        "id": "I3EyS1RUujeY"
      },
      "source": [
        "Setup Client"
      ]
    },
    {
      "cell_type": "code",
      "execution_count": 10,
      "metadata": {
        "id": "39i2CbtkInVD"
      },
      "outputs": [],
      "source": [
        "client = InferenceClient(\n",
        "    provider=\"hf-inference\",\n",
        "    api_key=userdata.get('HF_TOKEN'),\n",
        ")"
      ]
    },
    {
      "cell_type": "markdown",
      "metadata": {
        "id": "NR8C9cn7uk5j"
      },
      "source": [
        "Load the form content"
      ]
    },
    {
      "cell_type": "code",
      "execution_count": 19,
      "metadata": {
        "colab": {
          "base_uri": "https://localhost:8080/"
        },
        "id": "ousDb6WoMF3Q",
        "outputId": "4ca381f6-cff6-4b3f-8237-70e5b527dca5"
      },
      "outputs": [
        {
          "name": "stderr",
          "output_type": "stream",
          "text": [
            "<>:1: SyntaxWarning: invalid escape sequence '\\c'\n",
            "<>:1: SyntaxWarning: invalid escape sequence '\\c'\n",
            "/tmp/ipython-input-4158875764.py:1: SyntaxWarning: invalid escape sequence '\\c'\n",
            "  parent_dir = \"/content/data\\claim/PA-12345/\"\n"
          ]
        }
      ],
      "source": [
        "parent_dir = \"/content/data\\claim/PA-12345/\""
      ]
    },
    {
      "cell_type": "code",
      "execution_count": 21,
      "metadata": {
        "colab": {
          "base_uri": "https://localhost:8080/",
          "height": 36
        },
        "id": "DdjJ0QQUMNji",
        "outputId": "28228856-9be4-42ae-cb41-3063481d4c30"
      },
      "outputs": [
        {
          "data": {
            "application/vnd.google.colaboratory.intrinsic+json": {
              "type": "string"
            },
            "text/plain": [
              "'/content/data\\\\claim/PA-12345/CLM838825116'"
            ]
          },
          "execution_count": 21,
          "metadata": {},
          "output_type": "execute_result"
        }
      ],
      "source": [
        "folders = os.listdir(parent_dir)\n",
        "\n",
        "data_path = os.path.join(parent_dir, folders[0])\n",
        "data_path"
      ]
    },
    {
      "cell_type": "code",
      "execution_count": 22,
      "metadata": {
        "colab": {
          "base_uri": "https://localhost:8080/"
        },
        "id": "cHz6Yvt8Mh6U",
        "outputId": "8c6ee360-33b2-4a60-f932-59064934f237"
      },
      "outputs": [
        {
          "name": "stdout",
          "output_type": "stream",
          "text": [
            "True\n"
          ]
        }
      ],
      "source": [
        "print(os.path.exists(data_path))"
      ]
    },
    {
      "cell_type": "code",
      "execution_count": 23,
      "metadata": {
        "colab": {
          "base_uri": "https://localhost:8080/"
        },
        "id": "gJPLwCLCMP5s",
        "outputId": "4e100dec-fa9d-43bf-b3f6-2d555971662f"
      },
      "outputs": [
        {
          "data": {
            "text/plain": [
              "['claim_details.json', 'claim_text_data.txt']"
            ]
          },
          "execution_count": 23,
          "metadata": {},
          "output_type": "execute_result"
        }
      ],
      "source": [
        "files = os.listdir(data_path)\n",
        "files"
      ]
    },
    {
      "cell_type": "code",
      "execution_count": 24,
      "metadata": {
        "colab": {
          "base_uri": "https://localhost:8080/",
          "height": 36
        },
        "id": "2dZqoiu7NDj3",
        "outputId": "6781a7c9-6570-4e49-fa7d-481930420c53"
      },
      "outputs": [
        {
          "data": {
            "application/vnd.google.colaboratory.intrinsic+json": {
              "type": "string"
            },
            "text/plain": [
              "'/content/data\\\\claim/PA-12345/CLM838825116/claim_details.json'"
            ]
          },
          "execution_count": 24,
          "metadata": {},
          "output_type": "execute_result"
        }
      ],
      "source": [
        "file_path_details = os.path.join(data_path,files[0])\n",
        "file_path_details"
      ]
    },
    {
      "cell_type": "code",
      "execution_count": 25,
      "metadata": {
        "colab": {
          "base_uri": "https://localhost:8080/",
          "height": 105
        },
        "id": "ns14WFSWniLA",
        "outputId": "1c8929bc-c98e-4db7-ad8d-1708579cac18"
      },
      "outputs": [
        {
          "data": {
            "application/vnd.google.colaboratory.intrinsic+json": {
              "type": "string"
            },
            "text/plain": [
              "'{\\n    \"claim_id\": \"CLM838825116\",\\n    \"claim_date\": \"2025-08-18\",\\n    \"patient_info\": {\\n        \"patient_id\": \"PA-12345\",\\n        \"first_name\": \"Jesse\",\\n        \"last_name\": \"Waters\",\\n        \"date_of_birth\": \"1960-05-07\",\\n        \"policy_number\": \"P78831-16\"\\n    },\\n    \"provider_name\": \"Dr. Ava Sharma (Cardiology)\",\\n    \"primary_diagnosis\": \"Hypertension\",\\n    \"icd_code\": \"I10\",\\n    \"procedure_description\": \"Echocardiogram\",\\n    \"cpt_code\": \"93306\",\\n    \"financials\": {\\n        \"billed_amount\": 3425.16,\\n        \"allowed_amount\": 2252.49,\\n        \"copay\": 75.0,\\n        \"insurance_paid\": 2177.49\\n    }\\n}'"
            ]
          },
          "execution_count": 25,
          "metadata": {},
          "output_type": "execute_result"
        }
      ],
      "source": [
        "with open(file_path_details,'r',encoding=\"utf-8\") as file:\n",
        "  content_details = file.read()\n",
        "content_details"
      ]
    },
    {
      "cell_type": "code",
      "execution_count": 26,
      "metadata": {
        "colab": {
          "base_uri": "https://localhost:8080/",
          "height": 36
        },
        "id": "m0mELI5RNawu",
        "outputId": "abe190ce-a747-4a5b-fac7-c814a361ddc8"
      },
      "outputs": [
        {
          "data": {
            "application/vnd.google.colaboratory.intrinsic+json": {
              "type": "string"
            },
            "text/plain": [
              "'/content/data\\\\claim/PA-12345/CLM838825116/claim_text_data.txt'"
            ]
          },
          "execution_count": 26,
          "metadata": {},
          "output_type": "execute_result"
        }
      ],
      "source": [
        "file_path_text = os.path.join(data_path,files[1])\n",
        "file_path_text"
      ]
    },
    {
      "cell_type": "code",
      "execution_count": 27,
      "metadata": {
        "colab": {
          "base_uri": "https://localhost:8080/",
          "height": 140
        },
        "id": "UG8RNcOHNVRW",
        "outputId": "9a727801-3509-495c-9794-03cf7f759a5d"
      },
      "outputs": [
        {
          "data": {
            "application/vnd.google.colaboratory.intrinsic+json": {
              "type": "string"
            },
            "text/plain": [
              "\"---CLINICAL NOTE ---\\nCLINICAL NOTE: Patient Jesse Waters (Policy: P78831-16) was seen today, 2025-08-18, by Dr. Ava Sharma (Cardiology). The main subjective complaint was a recurrent flare-up of their **Hypertension** symptoms, which are generally well-managed. Student style yeah rule doctor among audience few. Assessment determined the necessity of a diagnostic procedure to confirm the severity: **Echocardiogram** (CPT: 93306). The diagnosis code assigned is **I10**. The patient was advised on the necessity of lifestyle modifications and will be starting the new medication, Lisinopril (20mg), immediately. Total billed charges for this visit are $3425.16. All staff were informed regarding the high priority of the patient's next appointment.\\n\\n---SUMMARY ---\\nClaim for Hypertension (I10). Patient presented with symptoms requiring Echocardiogram (93306). Recommended medication: Atorvastatin (10mg).\\n\""
            ]
          },
          "execution_count": 27,
          "metadata": {},
          "output_type": "execute_result"
        }
      ],
      "source": [
        "with open(file_path_text,'r',encoding=\"utf-8\") as file:\n",
        "  content_text = file.read()\n",
        "content_text"
      ]
    },
    {
      "cell_type": "code",
      "execution_count": 28,
      "metadata": {
        "colab": {
          "base_uri": "https://localhost:8080/",
          "height": 157
        },
        "id": "oTnYQAMUNlgS",
        "outputId": "e5dec1cc-fae2-4ee1-e73b-3243c583b35f"
      },
      "outputs": [
        {
          "data": {
            "application/vnd.google.colaboratory.intrinsic+json": {
              "type": "string"
            },
            "text/plain": [
              "'{\\n    \"claim_id\": \"CLM838825116\",\\n    \"claim_date\": \"2025-08-18\",\\n    \"patient_info\": {\\n        \"patient_id\": \"PA-12345\",\\n        \"first_name\": \"Jesse\",\\n        \"last_name\": \"Waters\",\\n        \"date_of_birth\": \"1960-05-07\",\\n        \"policy_number\": \"P78831-16\"\\n    },\\n    \"provider_name\": \"Dr. Ava Sharma (Cardiology)\",\\n    \"primary_diagnosis\": \"Hypertension\",\\n    \"icd_code\": \"I10\",\\n    \"procedure_description\": \"Echocardiogram\",\\n    \"cpt_code\": \"93306\",\\n    \"financials\": {\\n        \"billed_amount\": 3425.16,\\n        \"allowed_amount\": 2252.49,\\n        \"copay\": 75.0,\\n        \"insurance_paid\": 2177.49\\n    }\\n}---CLINICAL NOTE ---\\nCLINICAL NOTE: Patient Jesse Waters (Policy: P78831-16) was seen today, 2025-08-18, by Dr. Ava Sharma (Cardiology). The main subjective complaint was a recurrent flare-up of their **Hypertension** symptoms, which are generally well-managed. Student style yeah rule doctor among audience few. Assessment determined the necessity of a diagnostic procedure to confirm the severity: **Echocardiogram** (CPT: 93306). The diagnosis code assigned is **I10**. The patient was advised on the necessity of lifestyle modifications and will be starting the new medication, Lisinopril (20mg), immediately. Total billed charges for this visit are $3425.16. All staff were informed regarding the high priority of the patient\\'s next appointment.\\n\\n---SUMMARY ---\\nClaim for Hypertension (I10). Patient presented with symptoms requiring Echocardiogram (93306). Recommended medication: Atorvastatin (10mg).\\n'"
            ]
          },
          "execution_count": 28,
          "metadata": {},
          "output_type": "execute_result"
        }
      ],
      "source": [
        "combined_details = content_details + content_text\n",
        "combined_details"
      ]
    },
    {
      "cell_type": "markdown",
      "metadata": {
        "id": "8djVel3Lunpc"
      },
      "source": [
        "Remove unnecssory white spaces"
      ]
    },
    {
      "cell_type": "code",
      "execution_count": 29,
      "metadata": {
        "id": "COp4DyLUo5kY"
      },
      "outputs": [],
      "source": [
        "content = combined_details.strip()"
      ]
    },
    {
      "cell_type": "markdown",
      "metadata": {
        "id": "iUuo48Q-uqsA"
      },
      "source": [
        "Question to ask"
      ]
    },
    {
      "cell_type": "code",
      "execution_count": 30,
      "metadata": {
        "id": "rUBZsxdKnWeC"
      },
      "outputs": [],
      "source": [
        "question = \"Who is the doctor?\""
      ]
    },
    {
      "cell_type": "markdown",
      "metadata": {
        "id": "-4aziW4HutmX"
      },
      "source": [
        "Generate Answer"
      ]
    },
    {
      "cell_type": "code",
      "execution_count": 31,
      "metadata": {
        "id": "98XRvVQfh_cb"
      },
      "outputs": [],
      "source": [
        "answer = client.question_answering(\n",
        "    question=question,\n",
        "    context=content,\n",
        "    model=MODEL_NAME,\n",
        ")"
      ]
    },
    {
      "cell_type": "code",
      "execution_count": 32,
      "metadata": {
        "colab": {
          "base_uri": "https://localhost:8080/",
          "height": 36
        },
        "id": "U7OLpSYor7Ha",
        "outputId": "592a97a3-2941-4d20-af4e-d4b0ccc57211"
      },
      "outputs": [
        {
          "data": {
            "application/vnd.google.colaboratory.intrinsic+json": {
              "type": "string"
            },
            "text/plain": [
              "'deepset/roberta-large-squad2'"
            ]
          },
          "execution_count": 32,
          "metadata": {},
          "output_type": "execute_result"
        }
      ],
      "source": [
        "MODEL_NAME"
      ]
    },
    {
      "cell_type": "code",
      "execution_count": 33,
      "metadata": {
        "colab": {
          "base_uri": "https://localhost:8080/",
          "height": 157
        },
        "id": "5Yo0fZKHrcBh",
        "outputId": "d6d50f8e-5ada-4cec-dfbb-76febbc900ca"
      },
      "outputs": [
        {
          "data": {
            "application/vnd.google.colaboratory.intrinsic+json": {
              "type": "string"
            },
            "text/plain": [
              "'{\\n    \"claim_id\": \"CLM838825116\",\\n    \"claim_date\": \"2025-08-18\",\\n    \"patient_info\": {\\n        \"patient_id\": \"PA-12345\",\\n        \"first_name\": \"Jesse\",\\n        \"last_name\": \"Waters\",\\n        \"date_of_birth\": \"1960-05-07\",\\n        \"policy_number\": \"P78831-16\"\\n    },\\n    \"provider_name\": \"Dr. Ava Sharma (Cardiology)\",\\n    \"primary_diagnosis\": \"Hypertension\",\\n    \"icd_code\": \"I10\",\\n    \"procedure_description\": \"Echocardiogram\",\\n    \"cpt_code\": \"93306\",\\n    \"financials\": {\\n        \"billed_amount\": 3425.16,\\n        \"allowed_amount\": 2252.49,\\n        \"copay\": 75.0,\\n        \"insurance_paid\": 2177.49\\n    }\\n}---CLINICAL NOTE ---\\nCLINICAL NOTE: Patient Jesse Waters (Policy: P78831-16) was seen today, 2025-08-18, by Dr. Ava Sharma (Cardiology). The main subjective complaint was a recurrent flare-up of their **Hypertension** symptoms, which are generally well-managed. Student style yeah rule doctor among audience few. Assessment determined the necessity of a diagnostic procedure to confirm the severity: **Echocardiogram** (CPT: 93306). The diagnosis code assigned is **I10**. The patient was advised on the necessity of lifestyle modifications and will be starting the new medication, Lisinopril (20mg), immediately. Total billed charges for this visit are $3425.16. All staff were informed regarding the high priority of the patient\\'s next appointment.\\n\\n---SUMMARY ---\\nClaim for Hypertension (I10). Patient presented with symptoms requiring Echocardiogram (93306). Recommended medication: Atorvastatin (10mg).'"
            ]
          },
          "execution_count": 33,
          "metadata": {},
          "output_type": "execute_result"
        }
      ],
      "source": [
        "content"
      ]
    },
    {
      "cell_type": "markdown",
      "metadata": {
        "id": "upqcbQWxuv_R"
      },
      "source": [
        "Print Answer"
      ]
    },
    {
      "cell_type": "code",
      "execution_count": 34,
      "metadata": {
        "colab": {
          "base_uri": "https://localhost:8080/"
        },
        "id": "XYZgXUtqqkg_",
        "outputId": "8e3f07ce-a8df-4320-f1b7-443d9b83149e"
      },
      "outputs": [
        {
          "data": {
            "text/plain": [
              "QuestionAnsweringOutputElement(answer='Dr. Ava Sharma', end=303, score=0.8114892244338989, start=289)"
            ]
          },
          "execution_count": 34,
          "metadata": {},
          "output_type": "execute_result"
        }
      ],
      "source": [
        "answer"
      ]
    },
    {
      "cell_type": "markdown",
      "metadata": {
        "id": "AvLf6hMeu1tD"
      },
      "source": [
        "## Summarize"
      ]
    },
    {
      "cell_type": "markdown",
      "metadata": {
        "id": "J1MsYYVUKW2K"
      },
      "source": [
        "Summarization Model"
      ]
    },
    {
      "cell_type": "code",
      "execution_count": 35,
      "metadata": {
        "id": "kt_6-_XeI0yb"
      },
      "outputs": [],
      "source": [
        "SUMMARIZATION_MODEL = \"facebook/bart-large-cnn\""
      ]
    },
    {
      "cell_type": "markdown",
      "metadata": {
        "id": "XaWKOKiQKY58"
      },
      "source": [
        "Setup API"
      ]
    },
    {
      "cell_type": "code",
      "execution_count": 36,
      "metadata": {
        "id": "Ea8u9ArHIpB_"
      },
      "outputs": [],
      "source": [
        "client = InferenceClient(\n",
        "    provider=\"hf-inference\",\n",
        "    api_key=userdata.get('HF_TOKEN'),\n",
        ")"
      ]
    },
    {
      "cell_type": "markdown",
      "metadata": {
        "id": "_phfJWAKKb4s"
      },
      "source": [
        "Open file and read content"
      ]
    },
    {
      "cell_type": "code",
      "execution_count": 38,
      "metadata": {
        "colab": {
          "base_uri": "https://localhost:8080/",
          "height": 157
        },
        "id": "2x-jE_pkI_PB",
        "outputId": "ca56e809-b33b-41c4-be8d-7c26648144b8"
      },
      "outputs": [
        {
          "data": {
            "application/vnd.google.colaboratory.intrinsic+json": {
              "type": "string"
            },
            "text/plain": [
              "'{\\n    \"claim_id\": \"CLM838825116\",\\n    \"claim_date\": \"2025-08-18\",\\n    \"patient_info\": {\\n        \"patient_id\": \"PA-12345\",\\n        \"first_name\": \"Jesse\",\\n        \"last_name\": \"Waters\",\\n        \"date_of_birth\": \"1960-05-07\",\\n        \"policy_number\": \"P78831-16\"\\n    },\\n    \"provider_name\": \"Dr. Ava Sharma (Cardiology)\",\\n    \"primary_diagnosis\": \"Hypertension\",\\n    \"icd_code\": \"I10\",\\n    \"procedure_description\": \"Echocardiogram\",\\n    \"cpt_code\": \"93306\",\\n    \"financials\": {\\n        \"billed_amount\": 3425.16,\\n        \"allowed_amount\": 2252.49,\\n        \"copay\": 75.0,\\n        \"insurance_paid\": 2177.49\\n    }\\n}---CLINICAL NOTE ---\\nCLINICAL NOTE: Patient Jesse Waters (Policy: P78831-16) was seen today, 2025-08-18, by Dr. Ava Sharma (Cardiology). The main subjective complaint was a recurrent flare-up of their **Hypertension** symptoms, which are generally well-managed. Student style yeah rule doctor among audience few. Assessment determined the necessity of a diagnostic procedure to confirm the severity: **Echocardiogram** (CPT: 93306). The diagnosis code assigned is **I10**. The patient was advised on the necessity of lifestyle modifications and will be starting the new medication, Lisinopril (20mg), immediately. Total billed charges for this visit are $3425.16. All staff were informed regarding the high priority of the patient\\'s next appointment.\\n\\n---SUMMARY ---\\nClaim for Hypertension (I10). Patient presented with symptoms requiring Echocardiogram (93306). Recommended medication: Atorvastatin (10mg).\\n'"
            ]
          },
          "execution_count": 38,
          "metadata": {},
          "output_type": "execute_result"
        }
      ],
      "source": [
        "combined_details"
      ]
    },
    {
      "cell_type": "code",
      "execution_count": 39,
      "metadata": {
        "colab": {
          "base_uri": "https://localhost:8080/"
        },
        "id": "QRbB3toEJIs6",
        "outputId": "db4f444e-49ad-4f96-a217-1af5072eab81"
      },
      "outputs": [
        {
          "data": {
            "text/plain": [
              "1516"
            ]
          },
          "execution_count": 39,
          "metadata": {},
          "output_type": "execute_result"
        }
      ],
      "source": [
        "len(combined_details)"
      ]
    },
    {
      "cell_type": "markdown",
      "metadata": {
        "id": "LGemvj--KffH"
      },
      "source": [
        "Create Summarization"
      ]
    },
    {
      "cell_type": "code",
      "execution_count": 40,
      "metadata": {
        "id": "QASUVM3Pu7sp"
      },
      "outputs": [],
      "source": [
        "result = client.summarization(\n",
        "    text=combined_details,\n",
        "    model=SUMMARIZATION_MODEL,\n",
        ")"
      ]
    },
    {
      "cell_type": "code",
      "execution_count": 41,
      "metadata": {
        "colab": {
          "base_uri": "https://localhost:8080/"
        },
        "id": "91OuwdChJFpD",
        "outputId": "d5c9d3d1-fe26-42bc-aa43-5f2c780a4904"
      },
      "outputs": [
        {
          "data": {
            "text/plain": [
              "240"
            ]
          },
          "execution_count": 41,
          "metadata": {},
          "output_type": "execute_result"
        }
      ],
      "source": [
        "len(result.summary_text)"
      ]
    },
    {
      "cell_type": "markdown",
      "metadata": {
        "id": "jqMQucQzKhve"
      },
      "source": [
        "Print Result"
      ]
    },
    {
      "cell_type": "code",
      "execution_count": 42,
      "metadata": {
        "colab": {
          "base_uri": "https://localhost:8080/"
        },
        "id": "idMZdi4qJC8f",
        "outputId": "d2922f86-4934-420f-b1f1-a64eb631755e"
      },
      "outputs": [
        {
          "data": {
            "text/plain": [
              "SummarizationOutput(summary_text='Claim for Hypertension (I10). Patient presented with symptoms requiring Echocardiogram (93306) Recommended medication: Atorvastatin (10mg). Total billed charges for this visit are $3425.16. Student style yeah rule doctor among audience few.')"
            ]
          },
          "execution_count": 42,
          "metadata": {},
          "output_type": "execute_result"
        }
      ],
      "source": [
        "result"
      ]
    },
    {
      "cell_type": "code",
      "execution_count": 43,
      "metadata": {
        "colab": {
          "base_uri": "https://localhost:8080/",
          "height": 53
        },
        "id": "StBVBsMILRAY",
        "outputId": "48b5ddfe-b692-433f-fdd9-efe71a04918a"
      },
      "outputs": [
        {
          "data": {
            "application/vnd.google.colaboratory.intrinsic+json": {
              "type": "string"
            },
            "text/plain": [
              "'Claim for Hypertension (I10). Patient presented with symptoms requiring Echocardiogram (93306) Recommended medication: Atorvastatin (10mg). Total billed charges for this visit are $3425.16. Student style yeah rule doctor among audience few.'"
            ]
          },
          "execution_count": 43,
          "metadata": {},
          "output_type": "execute_result"
        }
      ],
      "source": [
        "result.summary_text"
      ]
    },
    {
      "cell_type": "markdown",
      "metadata": {
        "id": "yozPqJp3anAG"
      },
      "source": [
        "## Holistic Insight From multiple claim of same patient"
      ]
    },
    {
      "cell_type": "code",
      "execution_count": 94,
      "metadata": {
        "id": "Z8vOb7MoOkFE"
      },
      "outputs": [],
      "source": [
        "question = \"What is the total out-of-pocket cost (copay) for patient PE-54321 for all claims filed this year?\""
      ]
    },
    {
      "cell_type": "code",
      "execution_count": 92,
      "metadata": {
        "id": "TpnAskgIVSvI"
      },
      "outputs": [],
      "source": [
        "patient_id = \"PE-54321\""
      ]
    },
    {
      "cell_type": "code",
      "execution_count": 45,
      "metadata": {
        "colab": {
          "base_uri": "https://localhost:8080/"
        },
        "id": "HxC3gnEiTdxI",
        "outputId": "72bdccd6-98ed-46bb-a0d8-e40771fa4d61"
      },
      "outputs": [
        {
          "name": "stderr",
          "output_type": "stream",
          "text": [
            "<>:1: SyntaxWarning: invalid escape sequence '\\c'\n",
            "<>:1: SyntaxWarning: invalid escape sequence '\\c'\n",
            "/tmp/ipython-input-1947194476.py:1: SyntaxWarning: invalid escape sequence '\\c'\n",
            "  base_dir = \"/content/data\\claim\"\n"
          ]
        }
      ],
      "source": [
        "base_dir = \"/content/data\\claim\""
      ]
    },
    {
      "cell_type": "code",
      "execution_count": 93,
      "metadata": {
        "colab": {
          "base_uri": "https://localhost:8080/",
          "height": 36
        },
        "id": "KD-s4eCPUG5e",
        "outputId": "ccacf99d-ad4f-4833-edd0-255f8a0d3cf7"
      },
      "outputs": [
        {
          "data": {
            "application/vnd.google.colaboratory.intrinsic+json": {
              "type": "string"
            },
            "text/plain": [
              "'/content/data\\\\claim/PE-54321'"
            ]
          },
          "execution_count": 93,
          "metadata": {},
          "output_type": "execute_result"
        }
      ],
      "source": [
        "patient_dir = os.path.join(base_dir, patient_id)\n",
        "patient_dir"
      ]
    },
    {
      "cell_type": "code",
      "execution_count": 47,
      "metadata": {
        "id": "yYoNgzrQUJDY"
      },
      "outputs": [],
      "source": [
        "all_claims = []"
      ]
    },
    {
      "cell_type": "code",
      "execution_count": 48,
      "metadata": {
        "id": "IQHE9UDlTcRI"
      },
      "outputs": [],
      "source": [
        "for claim_id in os.listdir(patient_dir):\n",
        "    claim_path = os.path.join(patient_dir, claim_id)\n",
        "\n",
        "    if os.path.isdir(claim_path):\n",
        "        json_file = os.path.join(claim_path, 'claim_details.json')\n",
        "        if os.path.exists(json_file):\n",
        "            try:\n",
        "                with open(json_file, 'r') as f:\n",
        "                    claim_data = json.load(f)\n",
        "                    all_claims.append(claim_data)\n",
        "            except json.JSONDecodeError:\n",
        "                print(f\"Warning: Could not parse JSON in {json_file}\")\n",
        "\n",
        "all_claims.sort(key=lambda c: c['claim_date'])\n",
        "\n"
      ]
    },
    {
      "cell_type": "code",
      "execution_count": 95,
      "metadata": {
        "colab": {
          "base_uri": "https://localhost:8080/"
        },
        "id": "tbjgvDDZTwAH",
        "outputId": "8b942f57-67a0-43a1-8b19-f5202b7e5ad7"
      },
      "outputs": [
        {
          "data": {
            "text/plain": [
              "[{'claim_id': 'CLM252033920',\n",
              "  'claim_date': '2025-04-18',\n",
              "  'patient_info': {'patient_id': 'PE-54321',\n",
              "   'first_name': 'Patricia',\n",
              "   'last_name': 'Hardy',\n",
              "   'date_of_birth': '1957-09-13',\n",
              "   'policy_number': 'P99179-78'},\n",
              "  'provider_name': 'Central City Hospital',\n",
              "  'primary_diagnosis': 'Acute Sinusitis',\n",
              "  'icd_code': 'J01.90',\n",
              "  'procedure_description': 'Office Visit (Established Patient)',\n",
              "  'cpt_code': '99214',\n",
              "  'financials': {'billed_amount': 2172.64,\n",
              "   'allowed_amount': 1779.11,\n",
              "   'copay': 25.0,\n",
              "   'insurance_paid': 1754.11}},\n",
              " {'claim_id': 'CLM933602523',\n",
              "  'claim_date': '2025-05-18',\n",
              "  'patient_info': {'patient_id': 'PE-54321',\n",
              "   'first_name': 'Patricia',\n",
              "   'last_name': 'Hardy',\n",
              "   'date_of_birth': '1957-09-13',\n",
              "   'policy_number': 'P99179-78'},\n",
              "  'provider_name': 'Dr. Eleanor Vance (Internal Medicine)',\n",
              "  'primary_diagnosis': 'Type 2 Diabetes',\n",
              "  'icd_code': 'E11.9',\n",
              "  'procedure_description': 'Blood Glucose Test',\n",
              "  'cpt_code': '82947',\n",
              "  'financials': {'billed_amount': 785.68,\n",
              "   'allowed_amount': 541.34,\n",
              "   'copay': 75.0,\n",
              "   'insurance_paid': 466.34}},\n",
              " {'claim_id': 'CLM414997566',\n",
              "  'claim_date': '2025-06-18',\n",
              "  'patient_info': {'patient_id': 'PE-54321',\n",
              "   'first_name': 'Patricia',\n",
              "   'last_name': 'Hardy',\n",
              "   'date_of_birth': '1957-09-13',\n",
              "   'policy_number': 'P99179-78'},\n",
              "  'provider_name': 'Dr. Ava Sharma (Cardiology)',\n",
              "  'primary_diagnosis': 'Hypertension',\n",
              "  'icd_code': 'I10',\n",
              "  'procedure_description': 'Echocardiogram',\n",
              "  'cpt_code': '93306',\n",
              "  'financials': {'billed_amount': 2502.7,\n",
              "   'allowed_amount': 2121.74,\n",
              "   'copay': 25.0,\n",
              "   'insurance_paid': 2096.74}},\n",
              " {'claim_id': 'CLM548971071',\n",
              "  'claim_date': '2025-07-18',\n",
              "  'patient_info': {'patient_id': 'PE-54321',\n",
              "   'first_name': 'Patricia',\n",
              "   'last_name': 'Hardy',\n",
              "   'date_of_birth': '1957-09-13',\n",
              "   'policy_number': 'P99179-78'},\n",
              "  'provider_name': 'Dr. Marcus Bell (Neurology)',\n",
              "  'primary_diagnosis': 'Acute Sinusitis',\n",
              "  'icd_code': 'J01.90',\n",
              "  'procedure_description': 'Office Visit (Established Patient)',\n",
              "  'cpt_code': '99214',\n",
              "  'financials': {'billed_amount': 1966.68,\n",
              "   'allowed_amount': 1279.89,\n",
              "   'copay': 50.0,\n",
              "   'insurance_paid': 1229.89}},\n",
              " {'claim_id': 'CLM835240936',\n",
              "  'claim_date': '2025-08-18',\n",
              "  'patient_info': {'patient_id': 'PE-54321',\n",
              "   'first_name': 'Patricia',\n",
              "   'last_name': 'Hardy',\n",
              "   'date_of_birth': '1957-09-13',\n",
              "   'policy_number': 'P99179-78'},\n",
              "  'provider_name': 'Dr. Eleanor Vance (Internal Medicine)',\n",
              "  'primary_diagnosis': 'Type 2 Diabetes',\n",
              "  'icd_code': 'E11.9',\n",
              "  'procedure_description': 'Blood Glucose Test',\n",
              "  'cpt_code': '82947',\n",
              "  'financials': {'billed_amount': 886.67,\n",
              "   'allowed_amount': 698.11,\n",
              "   'copay': 75.0,\n",
              "   'insurance_paid': 623.11}},\n",
              " {'claim_id': 'CLM552152493',\n",
              "  'claim_date': '2025-09-17',\n",
              "  'patient_info': {'patient_id': 'PE-54321',\n",
              "   'first_name': 'Patricia',\n",
              "   'last_name': 'Hardy',\n",
              "   'date_of_birth': '1957-09-13',\n",
              "   'policy_number': 'P99179-78'},\n",
              "  'provider_name': 'Dr. Marcus Bell (Neurology)',\n",
              "  'primary_diagnosis': 'Acute Sinusitis',\n",
              "  'icd_code': 'J01.90',\n",
              "  'procedure_description': 'Office Visit (Established Patient)',\n",
              "  'cpt_code': '99214',\n",
              "  'financials': {'billed_amount': 3090.42,\n",
              "   'allowed_amount': 2272.16,\n",
              "   'copay': 50.0,\n",
              "   'insurance_paid': 2222.16}}]"
            ]
          },
          "execution_count": 95,
          "metadata": {},
          "output_type": "execute_result"
        }
      ],
      "source": [
        "all_claims"
      ]
    },
    {
      "cell_type": "code",
      "execution_count": 50,
      "metadata": {
        "colab": {
          "base_uri": "https://localhost:8080/"
        },
        "id": "MwJR9soaUmVa",
        "outputId": "3e4f79c4-afc6-4fa6-d0d7-dbad6745d4b9"
      },
      "outputs": [
        {
          "name": "stdout",
          "output_type": "stream",
          "text": [
            "Print Holistic Report!\n",
            "Total Copay: 300.0\n",
            "Total Allowed amount: 8692.35\n",
            "Total Insurance paid: 8392.35\n",
            "Provider names: {'Dr. Marcus Bell (Neurology)', 'Dr. Ava Sharma (Cardiology)', 'Dr. Eleanor Vance (Internal Medicine)', 'Central City Hospital'}\n",
            "Diagnosis count: defaultdict(<class 'int'>, {'Acute Sinusitis': 3, 'Type 2 Diabetes': 2, 'Hypertension': 1})\n"
          ]
        }
      ],
      "source": [
        "total_copay = sum(claim['financials']['copay'] for claim in all_claims)\n",
        "total_allowed_amount = sum(claim['financials']['allowed_amount'] for claim  in all_claims)\n",
        "total_insurance_paid = sum(claim['financials']['insurance_paid'] for claim  in all_claims)\n",
        "providers = set(claim['provider_name'] for claim in all_claims)\n",
        "diagnosis_counts = defaultdict(int)\n",
        "for claim in all_claims:\n",
        "    diagnosis_counts[claim['primary_diagnosis']] += 1\n",
        "\n",
        "print(f\"Print Holistic Report!\")\n",
        "print(f\"Total Copay: {total_copay}\")\n",
        "print(f\"Total Allowed amount: {total_allowed_amount}\")\n",
        "print(f\"Total Insurance paid: {total_insurance_paid}\")\n",
        "print(f\"Provider names: {providers}\")\n",
        "print(f\"Diagnosis count: {diagnosis_counts}\")\n",
        "\n"
      ]
    },
    {
      "cell_type": "markdown",
      "metadata": {
        "id": "Uki_y20-UZmu"
      },
      "source": [
        "**Holistic Insight from Unstructured data using LLM**"
      ]
    },
    {
      "cell_type": "code",
      "execution_count": 51,
      "metadata": {
        "id": "qqd1C7YXLCj1"
      },
      "outputs": [],
      "source": [
        "# if \"emergency\" in raw_notes_combined.lower() or \"hospital\" in raw_notes_combined.lower() or \"urgent\" in raw_notes_combined.lower():\n",
        "#     clinical_finding = \"The narrative notes mention an episode requiring **urgent** or **emergency** intervention, suggesting a period of instability or complication, despite the ongoing management of the primary condition.\"\n",
        "#     risk_level = \"High\"\n",
        "# elif claim_count > 4 and len(unique_providers) > 2:\n",
        "#     clinical_finding = \"The patient shows a high utilization pattern, having seen multiple specialists. The condition appears stable, but this indicates complex chronic management across different care settings.\"\n",
        "#     risk_level = \"Medium-High\"\n",
        "# else:\n",
        "#     clinical_finding = \"The patient's condition ({primary_diagnosis}) appears well-controlled based on the narrative notes, with consistent care from the same primary provider. No acute complications were noted.\"\n",
        "#     risk_level = \"Low\""
      ]
    },
    {
      "cell_type": "code",
      "execution_count": 96,
      "metadata": {
        "colab": {
          "base_uri": "https://localhost:8080/"
        },
        "id": "OgAn5VmGLxP7",
        "outputId": "36285096-e561-4895-fc85-d6e02e9239b8"
      },
      "outputs": [
        {
          "name": "stderr",
          "output_type": "stream",
          "text": [
            "<>:1: SyntaxWarning: invalid escape sequence '\\c'\n",
            "<>:1: SyntaxWarning: invalid escape sequence '\\c'\n",
            "/tmp/ipython-input-3127778631.py:1: SyntaxWarning: invalid escape sequence '\\c'\n",
            "  patient_dir = f\"/content/data\\claim/{patient_id}\"\n"
          ]
        }
      ],
      "source": [
        "patient_dir = f\"/content/data\\claim/{patient_id}\""
      ]
    },
    {
      "cell_type": "code",
      "execution_count": 97,
      "metadata": {
        "colab": {
          "base_uri": "https://localhost:8080/",
          "height": 36
        },
        "id": "rb-scbMfViV9",
        "outputId": "a6fbba6a-8813-4bbd-e6df-3ab4e1ae2fe8"
      },
      "outputs": [
        {
          "data": {
            "application/vnd.google.colaboratory.intrinsic+json": {
              "type": "string"
            },
            "text/plain": [
              "'/content/data\\\\claim/PE-54321'"
            ]
          },
          "execution_count": 97,
          "metadata": {},
          "output_type": "execute_result"
        }
      ],
      "source": [
        "patient_dir"
      ]
    },
    {
      "cell_type": "code",
      "execution_count": 98,
      "metadata": {
        "colab": {
          "base_uri": "https://localhost:8080/"
        },
        "id": "IYq5U_hQLqQ0",
        "outputId": "b9a811bf-4234-482a-dd8a-0a30c896cf9b"
      },
      "outputs": [
        {
          "name": "stdout",
          "output_type": "stream",
          "text": [
            "CLM933602523\n",
            "CLM414997566\n",
            "CLM548971071\n",
            "CLM252033920\n",
            "CLM552152493\n",
            "CLM835240936\n"
          ]
        }
      ],
      "source": [
        "for claim_id in os.listdir(patient_dir):\n",
        "  print(claim_id)"
      ]
    },
    {
      "cell_type": "code",
      "execution_count": 99,
      "metadata": {
        "id": "mLjexAoHLWeU"
      },
      "outputs": [],
      "source": [
        "all_notes = []\n",
        "for claim_id in os.listdir(patient_dir):\n",
        "  file_path = os.path.join(patient_dir, claim_id, 'claim_text_data.txt')\n",
        "  if os.path.exists(file_path):\n",
        "      with open(file_path, 'r') as f:\n",
        "          all_notes.append(f.read())\n"
      ]
    },
    {
      "cell_type": "code",
      "execution_count": 100,
      "metadata": {
        "colab": {
          "base_uri": "https://localhost:8080/"
        },
        "id": "MAVWbYMONVTN",
        "outputId": "ceabef66-fefc-46b8-e404-8b255e345174"
      },
      "outputs": [
        {
          "data": {
            "text/plain": [
              "[\"---CLINICAL NOTE ---\\nCLINICAL NOTE: Patient Patricia Hardy (Policy: P99179-78) was seen today, 2025-05-18, by Dr. Eleanor Vance (Internal Medicine). The main subjective complaint was a recurrent flare-up of their **Type 2 Diabetes** symptoms, which are generally well-managed. Start rather catch front now positive enjoy. Until season yes right question speech team. Assessment determined the necessity of a diagnostic procedure to confirm the severity: **Blood Glucose Test** (CPT: 82947). The diagnosis code assigned is **E11.9**. The patient was advised on the necessity of lifestyle modifications and will be starting the new medication, Metformin (500mg), immediately. Total billed charges for this visit are $785.68. All staff were informed regarding the high priority of the patient's next appointment.\\n\\n---SUMMARY ---\\nClaim for Type 2 Diabetes (E11.9). Patient presented with symptoms requiring Blood Glucose Test (82947). Recommended medication: Metformin (500mg).\\n\",\n",
              " \"---CLINICAL NOTE ---\\nCLINICAL NOTE: Patient Patricia Hardy (Policy: P99179-78) was seen today, 2025-06-18, by Dr. Ava Sharma (Cardiology). The main subjective complaint was a recurrent flare-up of their **Hypertension** symptoms, which are generally well-managed. Night any choice kind into. Put test girl apply star. Assessment determined the necessity of a diagnostic procedure to confirm the severity: **Echocardiogram** (CPT: 93306). The diagnosis code assigned is **I10**. The patient was advised on the necessity of lifestyle modifications and will be starting the new medication, Amoxicillin (500mg), immediately. Total billed charges for this visit are $2502.70. All staff were informed regarding the high priority of the patient's next appointment.\\n\\n---SUMMARY ---\\nClaim for Hypertension (I10). Patient presented with symptoms requiring Echocardiogram (93306). Recommended medication: Atorvastatin (10mg).\\n\"]"
            ]
          },
          "execution_count": 100,
          "metadata": {},
          "output_type": "execute_result"
        }
      ],
      "source": [
        "all_notes[:2]"
      ]
    },
    {
      "cell_type": "code",
      "execution_count": 101,
      "metadata": {
        "colab": {
          "base_uri": "https://localhost:8080/"
        },
        "id": "aXDkq3IFNfUF",
        "outputId": "669b20a9-9fe0-4fbc-9166-71f738feac71"
      },
      "outputs": [
        {
          "data": {
            "text/plain": [
              "[{'claim_id': 'CLM252033920',\n",
              "  'claim_date': '2025-04-18',\n",
              "  'patient_info': {'patient_id': 'PE-54321',\n",
              "   'first_name': 'Patricia',\n",
              "   'last_name': 'Hardy',\n",
              "   'date_of_birth': '1957-09-13',\n",
              "   'policy_number': 'P99179-78'},\n",
              "  'provider_name': 'Central City Hospital',\n",
              "  'primary_diagnosis': 'Acute Sinusitis',\n",
              "  'icd_code': 'J01.90',\n",
              "  'procedure_description': 'Office Visit (Established Patient)',\n",
              "  'cpt_code': '99214',\n",
              "  'financials': {'billed_amount': 2172.64,\n",
              "   'allowed_amount': 1779.11,\n",
              "   'copay': 25.0,\n",
              "   'insurance_paid': 1754.11}},\n",
              " {'claim_id': 'CLM933602523',\n",
              "  'claim_date': '2025-05-18',\n",
              "  'patient_info': {'patient_id': 'PE-54321',\n",
              "   'first_name': 'Patricia',\n",
              "   'last_name': 'Hardy',\n",
              "   'date_of_birth': '1957-09-13',\n",
              "   'policy_number': 'P99179-78'},\n",
              "  'provider_name': 'Dr. Eleanor Vance (Internal Medicine)',\n",
              "  'primary_diagnosis': 'Type 2 Diabetes',\n",
              "  'icd_code': 'E11.9',\n",
              "  'procedure_description': 'Blood Glucose Test',\n",
              "  'cpt_code': '82947',\n",
              "  'financials': {'billed_amount': 785.68,\n",
              "   'allowed_amount': 541.34,\n",
              "   'copay': 75.0,\n",
              "   'insurance_paid': 466.34}}]"
            ]
          },
          "execution_count": 101,
          "metadata": {},
          "output_type": "execute_result"
        }
      ],
      "source": [
        "all_claims[:2]"
      ]
    },
    {
      "cell_type": "code",
      "execution_count": 102,
      "metadata": {
        "id": "K5OYmOCdNkgE"
      },
      "outputs": [],
      "source": [
        "system_prompt = (\n",
        "    \"You are a Senior Medical Data Analyst. Your task is to provide a holistic, \"\n",
        "    \"AI-driven summary for a patient based on their entire claims history. \"\n",
        "    \"Synthesize the provided structured facts with the clinical context from the raw notes. \"\n",
        "    \"Focus on: 1) Stability of the condition, 2) Financial trends, and 3) Any signs of complication or new issues. \"\n",
        "    \"Begin your response with 'HOLISTIC INSIGHT:'.\"\n",
        ")"
      ]
    },
    {
      "cell_type": "code",
      "execution_count": 103,
      "metadata": {
        "id": "CdPhGBJmNpto"
      },
      "outputs": [],
      "source": [
        "user_query = (\n",
        "    f\"Analyze the following patient history and provide a concise, professional summary:\\n\\n\"\n",
        "    f\"--- STRUCTURED FACTS (Aggregated by Agent) ---\\n\"\n",
        "    f\"{json.dumps(all_claims, indent=2)}\\n\\n\"\n",
        "    f\"--- RAW CLINICAL NARRATIVES (Full Context) ---\\n\"\n",
        "    f\"{all_notes}\"\n",
        ")"
      ]
    },
    {
      "cell_type": "code",
      "execution_count": 105,
      "metadata": {
        "id": "ySWU2d8WOZij"
      },
      "outputs": [],
      "source": [
        "client = InferenceClient(token=userdata.get(\"HF_TOKEN\"))"
      ]
    },
    {
      "cell_type": "code",
      "execution_count": 107,
      "metadata": {
        "id": "lBs7b3OkOglE"
      },
      "outputs": [],
      "source": [
        "messages = [\n",
        "        {\"role\": \"system\", \"content\": system_prompt},\n",
        "        {\"role\": \"user\", \"content\": user_query}\n",
        "  ]"
      ]
    },
    {
      "cell_type": "code",
      "execution_count": 164,
      "metadata": {
        "id": "Gl83900AOm2S"
      },
      "outputs": [],
      "source": [
        "response = client.chat_completion(\n",
        "        messages=messages,\n",
        "        model=\"meta-llama/Meta-Llama-3-70B-Instruct\",\n",
        "        max_tokens=512,\n",
        "        temperature=0.5,\n",
        "    )\n"
      ]
    },
    {
      "cell_type": "code",
      "execution_count": null,
      "metadata": {
        "id": "uk4saP6eOqmb"
      },
      "outputs": [],
      "source": [
        "ai_insight_text = response.choices[0].message.content\n",
        "ai_insight_text"
      ]
    },
    {
      "cell_type": "markdown",
      "metadata": {
        "id": "4bGHLl7LPXw3"
      },
      "source": [
        "## Abstractive(Generative) QA"
      ]
    },
    {
      "cell_type": "code",
      "execution_count": 110,
      "metadata": {
        "id": "Uh-DU-SlPbRs"
      },
      "outputs": [],
      "source": [
        "system_prompt = (\n",
        "        \"You are an expert Clinical Data Analyst. Your task is to answer a user's question based *only* on the provided details. \"\n",
        "        \"You must provide your response in a strict JSON format with two keys: 'answer' and 'reasoning'.\\n\"\n",
        "        \"1. The 'answer' should be a direct and concise response to the user's question.\\n\"\n",
        "        \"2. The 'reasoning' must explain how you found the answer and include the *exact quote* from the text that supports your conclusion.\"\n",
        "    )"
      ]
    },
    {
      "cell_type": "code",
      "execution_count": 111,
      "metadata": {
        "colab": {
          "base_uri": "https://localhost:8080/"
        },
        "id": "Pt4khbx8SvYS",
        "outputId": "04bd28c3-ef0f-4763-cd32-7e0b1e0fd471"
      },
      "outputs": [
        {
          "data": {
            "text/plain": [
              "[\"---CLINICAL NOTE ---\\nCLINICAL NOTE: Patient Patricia Hardy (Policy: P99179-78) was seen today, 2025-05-18, by Dr. Eleanor Vance (Internal Medicine). The main subjective complaint was a recurrent flare-up of their **Type 2 Diabetes** symptoms, which are generally well-managed. Start rather catch front now positive enjoy. Until season yes right question speech team. Assessment determined the necessity of a diagnostic procedure to confirm the severity: **Blood Glucose Test** (CPT: 82947). The diagnosis code assigned is **E11.9**. The patient was advised on the necessity of lifestyle modifications and will be starting the new medication, Metformin (500mg), immediately. Total billed charges for this visit are $785.68. All staff were informed regarding the high priority of the patient's next appointment.\\n\\n---SUMMARY ---\\nClaim for Type 2 Diabetes (E11.9). Patient presented with symptoms requiring Blood Glucose Test (82947). Recommended medication: Metformin (500mg).\\n\",\n",
              " \"---CLINICAL NOTE ---\\nCLINICAL NOTE: Patient Patricia Hardy (Policy: P99179-78) was seen today, 2025-06-18, by Dr. Ava Sharma (Cardiology). The main subjective complaint was a recurrent flare-up of their **Hypertension** symptoms, which are generally well-managed. Night any choice kind into. Put test girl apply star. Assessment determined the necessity of a diagnostic procedure to confirm the severity: **Echocardiogram** (CPT: 93306). The diagnosis code assigned is **I10**. The patient was advised on the necessity of lifestyle modifications and will be starting the new medication, Amoxicillin (500mg), immediately. Total billed charges for this visit are $2502.70. All staff were informed regarding the high priority of the patient's next appointment.\\n\\n---SUMMARY ---\\nClaim for Hypertension (I10). Patient presented with symptoms requiring Echocardiogram (93306). Recommended medication: Atorvastatin (10mg).\\n\",\n",
              " \"---CLINICAL NOTE ---\\nCLINICAL NOTE: Patient Patricia Hardy (Policy: P99179-78) was seen today, 2025-07-18, by Dr. Marcus Bell (Neurology). The main subjective complaint was a recurrent flare-up of their **Acute Sinusitis** symptoms, which are generally well-managed. Traditional life ago always line. Assessment determined the necessity of a diagnostic procedure to confirm the severity: **Office Visit (Established Patient)** (CPT: 99214). The diagnosis code assigned is **J01.90**. The patient was advised on the necessity of lifestyle modifications and will be starting the new medication, Fluticasone Propionate, immediately. Total billed charges for this visit are $1966.68. All staff were informed regarding the high priority of the patient's next appointment.\\n\\n---SUMMARY ---\\nClaim for Acute Sinusitis (J01.90). Patient presented with symptoms requiring Office Visit (Established Patient) (99214). Recommended medication: Lisinopril (20mg).\\n\",\n",
              " \"---CLINICAL NOTE ---\\nCLINICAL NOTE: Patient Patricia Hardy (Policy: P99179-78) was seen today, 2025-04-18, by Central City Hospital. The main subjective complaint was a recurrent flare-up of their **Acute Sinusitis** symptoms, which are generally well-managed. Them probably success within. Assessment determined the necessity of a diagnostic procedure to confirm the severity: **Office Visit (Established Patient)** (CPT: 99214). The diagnosis code assigned is **J01.90**. The patient was advised on the necessity of lifestyle modifications and will be starting the new medication, Metformin (500mg), immediately. Total billed charges for this visit are $2172.64. All staff were informed regarding the high priority of the patient's next appointment.\\n\\n---SUMMARY ---\\nClaim for Acute Sinusitis (J01.90). Patient presented with symptoms requiring Office Visit (Established Patient) (99214). Recommended medication: Metformin (500mg).\\n\",\n",
              " \"---CLINICAL NOTE ---\\nCLINICAL NOTE: Patient Patricia Hardy (Policy: P99179-78) was seen today, 2025-09-17, by Dr. Marcus Bell (Neurology). The main subjective complaint was a recurrent flare-up of their **Acute Sinusitis** symptoms, which are generally well-managed. Stand here in listen success nearly. Assessment determined the necessity of a diagnostic procedure to confirm the severity: **Office Visit (Established Patient)** (CPT: 99214). The diagnosis code assigned is **J01.90**. The patient was advised on the necessity of lifestyle modifications and will be starting the new medication, Albuterol HFA, immediately. Total billed charges for this visit are $3090.42. All staff were informed regarding the high priority of the patient's next appointment.\\n\\n---SUMMARY ---\\nClaim for Acute Sinusitis (J01.90). Patient presented with symptoms requiring Office Visit (Established Patient) (99214). Recommended medication: Fluticasone Propionate.\\n\",\n",
              " \"---CLINICAL NOTE ---\\nCLINICAL NOTE: Patient Patricia Hardy (Policy: P99179-78) was seen today, 2025-08-18, by Dr. Eleanor Vance (Internal Medicine). The main subjective complaint was a recurrent flare-up of their **Type 2 Diabetes** symptoms, which are generally well-managed. Involve something follow cultural industry discussion animal. Identify property may example mission help particularly. Assessment determined the necessity of a diagnostic procedure to confirm the severity: **Blood Glucose Test** (CPT: 82947). The diagnosis code assigned is **E11.9**. The patient was advised on the necessity of lifestyle modifications and will be starting the new medication, Albuterol HFA, immediately. Total billed charges for this visit are $886.67. All staff were informed regarding the high priority of the patient's next appointment.\\n\\n---SUMMARY ---\\nClaim for Type 2 Diabetes (E11.9). Patient presented with symptoms requiring Blood Glucose Test (82947). Recommended medication: Atorvastatin (10mg).\\n\"]"
            ]
          },
          "execution_count": 111,
          "metadata": {},
          "output_type": "execute_result"
        }
      ],
      "source": [
        "all_notes"
      ]
    },
    {
      "cell_type": "code",
      "execution_count": 141,
      "metadata": {
        "id": "6Df2zdhFXfGI"
      },
      "outputs": [],
      "source": [
        "question = \"Provide holistic analysis of this patient\""
      ]
    },
    {
      "cell_type": "code",
      "execution_count": 142,
      "metadata": {
        "id": "Lbd1qi_9PyEy"
      },
      "outputs": [],
      "source": [
        "user_query = (\n",
        "        f\"Based on the following clinical note, please answer my question.\\n\\n\"\n",
        "        f\"--- CLAIM DETAILS ---\\n\"\n",
        "        f\"{all_claims}\\n\\n\"\n",
        "        f\"--- CLINICAL NOTE ---\\n\"\n",
        "        f\"{all_notes}\\n\\n\"\n",
        "        f\"--- QUESTION ---\\n\"\n",
        "        f\"{question}\"\n",
        "    )"
      ]
    },
    {
      "cell_type": "code",
      "execution_count": 114,
      "metadata": {
        "colab": {
          "base_uri": "https://localhost:8080/"
        },
        "id": "x83R5LkKP2DO",
        "outputId": "2a0f9234-a833-4d1b-a0b6-18d95b5ce884"
      },
      "outputs": [
        {
          "data": {
            "text/plain": [
              "<InferenceClient(model='', timeout=None)>"
            ]
          },
          "execution_count": 114,
          "metadata": {},
          "output_type": "execute_result"
        }
      ],
      "source": [
        "client = InferenceClient(token=userdata.get(\"HF_TOKEN\"))\n",
        "client"
      ]
    },
    {
      "cell_type": "code",
      "execution_count": 144,
      "metadata": {
        "id": "MXxNY1_oQPwf"
      },
      "outputs": [],
      "source": [
        "messages = [\n",
        "        {\"role\": \"system\", \"content\": system_prompt},\n",
        "        {\"role\": \"user\", \"content\": user_query}\n",
        "    ]"
      ]
    },
    {
      "cell_type": "code",
      "execution_count": 145,
      "metadata": {
        "colab": {
          "base_uri": "https://localhost:8080/"
        },
        "id": "9Uqa0IKzWQSV",
        "outputId": "cb94f553-a88f-4f1d-9fce-a2d8729645fe"
      },
      "outputs": [
        {
          "data": {
            "text/plain": [
              "9420"
            ]
          },
          "execution_count": 145,
          "metadata": {},
          "output_type": "execute_result"
        }
      ],
      "source": [
        "len(messages[0]['content']) + len(messages[1]['content'])"
      ]
    },
    {
      "cell_type": "code",
      "execution_count": 158,
      "metadata": {
        "id": "D3j_yA2mSPk0"
      },
      "outputs": [],
      "source": [
        "response_format = {\n",
        "    \"type\": \"json_schema\",\n",
        "    \"json_schema\": {\n",
        "        \"name\": \"answer_and_reasoning\",\n",
        "        \"description\": \"Return a short final answer and a concise rationale (non-stepwise summary).\",\n",
        "        \"schema\": {\n",
        "            \"type\": \"object\",\n",
        "            \"properties\": {\n",
        "                \"answer\": {\n",
        "                    \"type\": \"string\",\n",
        "                    \"description\": \"The short final answer (direct).\"\n",
        "                },\n",
        "                \"reasoning\": {\n",
        "                    \"type\": \"string\",\n",
        "                    \"description\": \"A concise, non-step-by-step summary explaining why the answer is correct.\"\n",
        "                }\n",
        "            },\n",
        "            \"required\": [\"answer\", \"reasoning\"],\n",
        "            \"additionalProperties\": False\n",
        "        },\n",
        "        \"strict\": True\n",
        "    }\n",
        "}\n"
      ]
    },
    {
      "cell_type": "code",
      "execution_count": 159,
      "metadata": {
        "id": "3KkH9SyqQR5c"
      },
      "outputs": [],
      "source": [
        "response = client.chat_completion(\n",
        "            messages=messages,\n",
        "            model=\"meta-llama/Meta-Llama-3-70B-Instruct\",\n",
        "            max_tokens=512,\n",
        "            temperature=0.1, # Low temperature for factual, non-creative responses\n",
        "            response_format=response_format\n",
        "\n",
        "        )"
      ]
    },
    {
      "cell_type": "code",
      "execution_count": 160,
      "metadata": {
        "colab": {
          "base_uri": "https://localhost:8080/",
          "height": 157
        },
        "id": "1D8ROFmAQXeo",
        "outputId": "738e76dc-7ae7-401b-fd6e-d9af9e552d4a"
      },
      "outputs": [
        {
          "data": {
            "application/vnd.google.colaboratory.intrinsic+json": {
              "type": "string"
            },
            "text/plain": [
              "'{\\n\"answer\": \"The patient, Patricia Hardy, has multiple chronic conditions, including Acute Sinusitis, Type 2 Diabetes, and Hypertension, which are generally well-managed. She has been seen by multiple providers, including Dr. Eleanor Vance (Internal Medicine), Dr. Ava Sharma (Cardiology), and Dr. Marcus Bell (Neurology), and has undergone various diagnostic procedures, including Blood Glucose Tests, Echocardiograms, and Office Visits. The patient has been prescribed multiple medications, including Metformin, Amoxicillin, Fluticasone Propionate, Lisinopril, and Albuterol HFA, and has been advised on lifestyle modifications.\",\\n\"reasoning\": \"The answer is based on the analysis of the clinical notes, which provide a comprehensive overview of the patient\\'s medical history, diagnoses, and treatments. The notes mention the patient\\'s multiple chronic conditions, including Acute Sinusitis (J01.90), Type 2 Diabetes (E11.9), and Hypertension (I10), and the various diagnostic procedures and medications prescribed. The quotes that support this conclusion include: \\'The main subjective complaint was a recurrent flare-up of their **Type 2 Diabetes** symptoms, which are generally well-managed.\\' (CLINICAL NOTE, 2025-05-18), \\'The main subjective complaint was a recurrent flare-up of their **Hypertension** symptoms, which are generally well-managed.\\' (CLINICAL NOTE, 2025-06-18), and \\'The main subjective complaint was a recurrent flare-up of their **Acute Sinusitis** symptoms, which are generally well-managed.\\' (CLINICAL NOTE, 2025-07-18).\"\\n}'"
            ]
          },
          "execution_count": 160,
          "metadata": {},
          "output_type": "execute_result"
        }
      ],
      "source": [
        "llm_output_str = response.choices[0].message.content\n",
        "llm_output_str"
      ]
    },
    {
      "cell_type": "code",
      "execution_count": 161,
      "metadata": {
        "colab": {
          "base_uri": "https://localhost:8080/"
        },
        "id": "FHFnVxFZSXdn",
        "outputId": "cc417b31-e179-4a7f-f871-a264f2223857"
      },
      "outputs": [
        {
          "data": {
            "text/plain": [
              "{'answer': 'The patient, Patricia Hardy, has multiple chronic conditions, including Acute Sinusitis, Type 2 Diabetes, and Hypertension, which are generally well-managed. She has been seen by multiple providers, including Dr. Eleanor Vance (Internal Medicine), Dr. Ava Sharma (Cardiology), and Dr. Marcus Bell (Neurology), and has undergone various diagnostic procedures, including Blood Glucose Tests, Echocardiograms, and Office Visits. The patient has been prescribed multiple medications, including Metformin, Amoxicillin, Fluticasone Propionate, Lisinopril, and Albuterol HFA, and has been advised on lifestyle modifications.',\n",
              " 'reasoning': \"The answer is based on the analysis of the clinical notes, which provide a comprehensive overview of the patient's medical history, diagnoses, and treatments. The notes mention the patient's multiple chronic conditions, including Acute Sinusitis (J01.90), Type 2 Diabetes (E11.9), and Hypertension (I10), and the various diagnostic procedures and medications prescribed. The quotes that support this conclusion include: 'The main subjective complaint was a recurrent flare-up of their **Type 2 Diabetes** symptoms, which are generally well-managed.' (CLINICAL NOTE, 2025-05-18), 'The main subjective complaint was a recurrent flare-up of their **Hypertension** symptoms, which are generally well-managed.' (CLINICAL NOTE, 2025-06-18), and 'The main subjective complaint was a recurrent flare-up of their **Acute Sinusitis** symptoms, which are generally well-managed.' (CLINICAL NOTE, 2025-07-18).\"}"
            ]
          },
          "execution_count": 161,
          "metadata": {},
          "output_type": "execute_result"
        }
      ],
      "source": [
        "parsed_json = json.loads(llm_output_str)\n",
        "parsed_json"
      ]
    },
    {
      "cell_type": "code",
      "execution_count": 162,
      "metadata": {
        "colab": {
          "base_uri": "https://localhost:8080/",
          "height": 140
        },
        "id": "XSZdnKzCYa49",
        "outputId": "fa365fde-f21f-4568-cbe9-3c94fa69a43a"
      },
      "outputs": [
        {
          "data": {
            "application/vnd.google.colaboratory.intrinsic+json": {
              "type": "string"
            },
            "text/plain": [
              "\"The answer is based on the analysis of the clinical notes, which provide a comprehensive overview of the patient's medical history, diagnoses, and treatments. The notes mention the patient's multiple chronic conditions, including Acute Sinusitis (J01.90), Type 2 Diabetes (E11.9), and Hypertension (I10), and the various diagnostic procedures and medications prescribed. The quotes that support this conclusion include: 'The main subjective complaint was a recurrent flare-up of their **Type 2 Diabetes** symptoms, which are generally well-managed.' (CLINICAL NOTE, 2025-05-18), 'The main subjective complaint was a recurrent flare-up of their **Hypertension** symptoms, which are generally well-managed.' (CLINICAL NOTE, 2025-06-18), and 'The main subjective complaint was a recurrent flare-up of their **Acute Sinusitis** symptoms, which are generally well-managed.' (CLINICAL NOTE, 2025-07-18).\""
            ]
          },
          "execution_count": 162,
          "metadata": {},
          "output_type": "execute_result"
        }
      ],
      "source": [
        "parsed_json['reasoning']"
      ]
    }
  ],
  "metadata": {
    "colab": {
      "provenance": []
    },
    "kernelspec": {
      "display_name": "Python 3",
      "name": "python3"
    },
    "language_info": {
      "name": "python"
    }
  },
  "nbformat": 4,
  "nbformat_minor": 0
}
